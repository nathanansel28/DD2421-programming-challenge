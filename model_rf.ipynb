{
 "cells": [
  {
   "cell_type": "code",
   "execution_count": 1,
   "metadata": {},
   "outputs": [],
   "source": [
    "from data import *\n",
    "from tools import train_kcv\n",
    "import json"
   ]
  },
  {
   "cell_type": "code",
   "execution_count": 3,
   "metadata": {},
   "outputs": [
    {
     "name": "stdout",
     "output_type": "stream",
     "text": [
      "Fitting 5 folds for each of 50 candidates, totalling 250 fits\n",
      "Best parameters found: {'n_estimators': 400, 'min_samples_split': 10, 'min_samples_leaf': 4, 'max_depth': 50, 'bootstrap': True}\n",
      "Best accuracy score: 0.689\n"
     ]
    }
   ],
   "source": [
    "from model_rf import hyperparam_tuning\n",
    "\n",
    "\n",
    "result = hyperparam_tuning(X_train, y_train, n_iter=50)"
   ]
  },
  {
   "cell_type": "code",
   "execution_count": 4,
   "metadata": {},
   "outputs": [],
   "source": [
    "with open(\"params_rf.json\", \"w\") as outfile: \n",
    "    json.dump(result.best_params_, outfile)"
   ]
  },
  {
   "cell_type": "code",
   "execution_count": 5,
   "metadata": {},
   "outputs": [
    {
     "name": "stdout",
     "output_type": "stream",
     "text": [
      "Cross-validation accuracy: 0.6776 ± 0.0120\n",
      "Cross-validation log loss: 0.7489 ± 0.0098\n",
      "Cross-validation accuracy: 0.6854 ± 0.0124\n",
      "Cross-validation log loss: 0.7421 ± 0.0069\n"
     ]
    }
   ],
   "source": [
    "train_kcv(model_type='rf', X_train=X_train, y_train=y_train)\n",
    "train_kcv(model_type='rf', X_train=X_train, y_train=y_train, rf_params=result.best_params_)"
   ]
  },
  {
   "cell_type": "code",
   "execution_count": 7,
   "metadata": {},
   "outputs": [
    {
     "name": "stdout",
     "output_type": "stream",
     "text": [
      "[0 2 0 ... 1 2 0]\n",
      "[[0.98 0.   0.02]\n",
      " [0.1  0.12 0.78]\n",
      " [0.97 0.02 0.01]\n",
      " ...\n",
      " [0.07 0.75 0.18]\n",
      " [0.03 0.01 0.96]\n",
      " [0.93 0.03 0.04]]\n"
     ]
    }
   ],
   "source": [
    "from base_models import Model\n",
    "\n",
    "rf = Model('rf')\n",
    "rf.fit(X_train, y_train)\n",
    "y_pred, y_proba = rf.predict(X_train)\n",
    "print(y_pred)\n",
    "print(y_proba)\n"
   ]
  }
 ],
 "metadata": {
  "kernelspec": {
   "display_name": "venv",
   "language": "python",
   "name": "python3"
  },
  "language_info": {
   "codemirror_mode": {
    "name": "ipython",
    "version": 3
   },
   "file_extension": ".py",
   "mimetype": "text/x-python",
   "name": "python",
   "nbconvert_exporter": "python",
   "pygments_lexer": "ipython3",
   "version": "3.11.6"
  }
 },
 "nbformat": 4,
 "nbformat_minor": 2
}

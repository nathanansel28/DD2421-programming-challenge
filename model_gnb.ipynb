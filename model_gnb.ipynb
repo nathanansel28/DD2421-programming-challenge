{
 "cells": [
  {
   "cell_type": "code",
   "execution_count": 1,
   "metadata": {},
   "outputs": [],
   "source": [
    "from tools import *"
   ]
  },
  {
   "cell_type": "code",
   "execution_count": null,
   "metadata": {},
   "outputs": [
    {
     "name": "stdout",
     "output_type": "stream",
     "text": [
      "Cross-validation accuracy: 0.6500 ± 0.0087\n",
      "Submission file saved as submission_gnb.csv 🚀\n"
     ]
    }
   ],
   "source": [
    "import numpy as np\n",
    "import pandas as pd\n",
    "from sklearn.model_selection import StratifiedKFold, cross_val_score\n",
    "from sklearn.preprocessing import LabelEncoder\n",
    "from sklearn.naive_bayes import GaussianNB\n",
    "from sklearn.metrics import accuracy_score\n",
    "\n",
    "# Initialize Gaussian Naïve Bayes\n",
    "gnb = GaussianNB()\n",
    "\n",
    "# K-Fold Cross Validation (Stratified)\n",
    "kf = StratifiedKFold(n_splits=5, shuffle=True, random_state=42)\n",
    "\n",
    "cv_scores = []\n",
    "cv_log_losses = []\n",
    "for train_idx, val_idx in kf.split(X_train, y_train):\n",
    "    X_train_fold, X_val_fold = X_train.iloc[train_idx], X_train.iloc[val_idx]\n",
    "    y_train_fold, y_val_fold = y_train[train_idx], y_train[val_idx]\n",
    "\n",
    "    # Train Naïve Bayes\n",
    "    model = GaussianNB()\n",
    "    model.fit(X_train_fold, y_train_fold)\n",
    "\n",
    "    # Validate model\n",
    "    y_val_pred = model.predict(X_val_fold)\n",
    "    acc = accuracy_score(y_val_fold, y_val_pred)\n",
    "    cv_scores.append(acc)\n",
    "\n",
    "print(f\"Cross-validation accuracy: {np.mean(cv_scores):.4f} ± {np.std(cv_scores):.4f}\")\n",
    "\n",
    "final_model = GaussianNB()\n",
    "final_model.fit(X_train, y_train)\n",
    "\n",
    "# Predict on test set\n",
    "y_test_pred = final_model.predict(X_test)\n",
    "\n",
    "# Convert predictions back to original labels\n",
    "y_test_pred_labels = label_encoder.inverse_transform(y_test_pred)\n",
    "\n",
    "submission = pd.DataFrame({\"id\": test_raw.index, \"y\": y_test_pred_labels})\n",
    "submission.to_csv(\"submission_gnb.csv\", index=False)\n",
    "print(\"Submission file saved as submission_gnb.csv\")"
   ]
  },
  {
   "cell_type": "code",
   "execution_count": 2,
   "metadata": {},
   "outputs": [
    {
     "name": "stdout",
     "output_type": "stream",
     "text": [
      "Selected Features: ['x2' 'x3' 'x4' 'x6' 'x8' 'x9' 'x10' 'x11']\n",
      "Cross-validation accuracy after feature selection: 0.6572 ± 0.0074\n",
      "Submission file saved as submission_gnb_selected.csv\n"
     ]
    }
   ],
   "source": [
    "import numpy as np\n",
    "import pandas as pd\n",
    "from sklearn.model_selection import StratifiedKFold\n",
    "from sklearn.preprocessing import LabelEncoder\n",
    "from sklearn.naive_bayes import GaussianNB\n",
    "from sklearn.metrics import accuracy_score\n",
    "from sklearn.feature_selection import SelectKBest, mutual_info_classif\n",
    "\n",
    "# Feature Selection using Mutual Information\n",
    "selector = SelectKBest(mutual_info_classif, k=8)  # Selecting top 8 features\n",
    "X_train_selected = selector.fit_transform(X_train, y_train)\n",
    "X_test_selected = selector.transform(X_test)\n",
    "\n",
    "# Get selected feature names\n",
    "selected_features = np.array(features)[selector.get_support()]\n",
    "print(\"Selected Features:\", selected_features)\n",
    "\n",
    "# Initialize Gaussian Naïve Bayes\n",
    "gnb = GaussianNB()\n",
    "\n",
    "# K-Fold Cross Validation (Stratified)\n",
    "kf = StratifiedKFold(n_splits=5, shuffle=True, random_state=42)\n",
    "cv_scores = []\n",
    "\n",
    "for train_idx, val_idx in kf.split(X_train_selected, y_train):\n",
    "    X_train_fold, X_val_fold = X_train_selected[train_idx], X_train_selected[val_idx]\n",
    "    y_train_fold, y_val_fold = y_train[train_idx], y_train[val_idx]\n",
    "\n",
    "    # Train model\n",
    "    model = GaussianNB()\n",
    "    model.fit(X_train_fold, y_train_fold)\n",
    "\n",
    "    # Validate model\n",
    "    y_val_pred = model.predict(X_val_fold)\n",
    "    acc = accuracy_score(y_val_fold, y_val_pred)\n",
    "    cv_scores.append(acc)\n",
    "\n",
    "print(f\"Cross-validation accuracy after feature selection: {np.mean(cv_scores):.4f} ± {np.std(cv_scores):.4f}\")\n",
    "\n",
    "# Train final model on full training data\n",
    "final_model = GaussianNB()\n",
    "final_model.fit(X_train_selected, y_train)\n",
    "\n",
    "# Predict on test set\n",
    "y_test_pred = final_model.predict(X_test_selected)\n",
    "\n",
    "# Convert predictions back to original labels\n",
    "y_test_pred_labels = label_encoder.inverse_transform(y_test_pred)\n",
    "\n",
    "# Save submission file\n",
    "submission = pd.DataFrame({\"id\": test_raw.index, \"y\": y_test_pred_labels})\n",
    "submission.to_csv(\"submission_gnb_selected.csv\", index=False)\n",
    "print(\"Submission file saved as submission_gnb_selected.csv\")\n"
   ]
  }
 ],
 "metadata": {
  "kernelspec": {
   "display_name": "venv",
   "language": "python",
   "name": "python3"
  },
  "language_info": {
   "codemirror_mode": {
    "name": "ipython",
    "version": 3
   },
   "file_extension": ".py",
   "mimetype": "text/x-python",
   "name": "python",
   "nbconvert_exporter": "python",
   "pygments_lexer": "ipython3",
   "version": "3.11.6"
  }
 },
 "nbformat": 4,
 "nbformat_minor": 2
}
